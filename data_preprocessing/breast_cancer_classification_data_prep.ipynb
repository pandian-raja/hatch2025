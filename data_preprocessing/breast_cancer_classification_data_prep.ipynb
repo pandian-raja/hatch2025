{
  "nbformat": 4,
  "nbformat_minor": 0,
  "metadata": {
    "colab": {
      "provenance": []
    },
    "kernelspec": {
      "name": "python3",
      "display_name": "Python 3"
    },
    "language_info": {
      "name": "python"
    }
  },
  "cells": [
    {
      "cell_type": "code",
      "execution_count": null,
      "metadata": {
        "id": "odyPjpxoo1bG"
      },
      "outputs": [],
      "source": [
        "\n",
        "import kagglehub\n",
        "\n",
        "ambarish_breakhis_path = kagglehub.dataset_download('ambarish/breakhis')\n",
        "\n",
        "print('Data source import complete.')\n"
      ]
    },
    {
      "cell_type": "code",
      "source": [
        "import os\n",
        "os.environ[\"GCLOUD_PROJECT\"] = \"GCLOUD_PROJECT_ID\""
      ],
      "metadata": {
        "id": "kdXCu1TjpLs9"
      },
      "execution_count": null,
      "outputs": []
    },
    {
      "cell_type": "code",
      "source": [
        "from google.cloud import storage\n",
        "import os\n",
        "import shutil\n",
        "\n",
        "def upload_to_gcs(local_folder, bucket_name):\n",
        "    client = storage.Client()\n",
        "    bucket = client.bucket(bucket_name)\n",
        "\n",
        "    for root, dirs, files in os.walk(local_folder):\n",
        "        for file in files:\n",
        "            local_path = os.path.join(root, file)\n",
        "            blob_path = os.path.relpath(local_path, local_folder)  # Keep folder structure\n",
        "            blob = bucket.blob(blob_path)\n",
        "            blob.upload_from_filename(local_path)\n",
        "            print(f\"Uploaded {local_path} to gs://{bucket_name}/{blob_path}\")\n",
        "\n",
        "bucket_name = \"hatch2025_breakhis\"  # Replace with your bucket name\n",
        "dataset_path = ambarish_breakhis_path\n",
        "\n",
        "upload_to_gcs(dataset_path, bucket_name)\n"
      ],
      "metadata": {
        "id": "OIKybYqGpOyE"
      },
      "execution_count": null,
      "outputs": []
    },
    {
      "cell_type": "code",
      "source": [
        "import json\n",
        "import requests\n",
        "import os\n",
        "from google.cloud import storage\n",
        "from tqdm import tqdm  # For progress tracking\n",
        "import random\n",
        "from typing import List, Tuple\n",
        "from pathlib import Path\n",
        "from urllib.parse import quote\n",
        "\n",
        "def get_public_bucket_file_urls(bucket_name):\n",
        "    \"\"\"\n",
        "    Get list of public URLs for all files in a GCP bucket\n",
        "    \"\"\"\n",
        "    client = storage.Client.create_anonymous_client()\n",
        "    bucket = client.bucket(bucket_name)\n",
        "    blobs = bucket.list_blobs()\n",
        "# {quote(name)}\n",
        "    base_url = f\"https://storage.googleapis.com/{bucket_name}/\"\n",
        "    file_urls = [base_url + quote(blob.name) for blob in blobs]\n",
        "\n",
        "    return file_urls\n"
      ],
      "metadata": {
        "id": "8YcTK2jFpTyb"
      },
      "execution_count": null,
      "outputs": []
    }
  ]
}